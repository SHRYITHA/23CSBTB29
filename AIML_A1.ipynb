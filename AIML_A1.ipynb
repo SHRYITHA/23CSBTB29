{
  "nbformat": 4,
  "nbformat_minor": 0,
  "metadata": {
    "colab": {
      "provenance": [],
      "authorship_tag": "ABX9TyPCpX4S4hZT1aosfCe3+WyL",
      "include_colab_link": true
    },
    "kernelspec": {
      "name": "python3",
      "display_name": "Python 3"
    },
    "language_info": {
      "name": "python"
    }
  },
  "cells": [
    {
      "cell_type": "markdown",
      "metadata": {
        "id": "view-in-github",
        "colab_type": "text"
      },
      "source": [
        "<a href=\"https://colab.research.google.com/github/SHRYITHA/23CSBTB29/blob/main/AIML_A1.ipynb\" target=\"_parent\"><img src=\"https://colab.research.google.com/assets/colab-badge.svg\" alt=\"Open In Colab\"/></a>"
      ]
    },
    {
      "cell_type": "markdown",
      "source": [
        "PART1-IMPLEMENTING BASIC DATA STRUCTURES USING NUMPY AND PANDAS"
      ],
      "metadata": {
        "id": "kwM4kplJJNgB"
      }
    },
    {
      "cell_type": "code",
      "execution_count": 2,
      "metadata": {
        "colab": {
          "base_uri": "https://localhost:8080/"
        },
        "id": "D-O4P8fCI7Rg",
        "outputId": "8f4db80f-ba33-4998-c3b5-904b54235d0f"
      },
      "outputs": [
        {
          "output_type": "stream",
          "name": "stdout",
          "text": [
            "(2, 8, 1, 5, 7)\n",
            "<class 'tuple'>\n"
          ]
        }
      ],
      "source": [
        "lst1=(2,8,1,5,7)\n",
        "print(lst1)\n",
        "print(type(lst1))"
      ]
    },
    {
      "cell_type": "code",
      "source": [
        "lst2={3,8,9,2}\n",
        "print(lst2)\n",
        "print(type(lst2))"
      ],
      "metadata": {
        "colab": {
          "base_uri": "https://localhost:8080/"
        },
        "id": "PpOHCgazJnhR",
        "outputId": "c36dc0c9-32c5-4a85-a645-a26b610efaf1"
      },
      "execution_count": 3,
      "outputs": [
        {
          "output_type": "stream",
          "name": "stdout",
          "text": [
            "{8, 9, 2, 3}\n",
            "<class 'set'>\n"
          ]
        }
      ]
    },
    {
      "cell_type": "code",
      "source": [
        "lst3=[5,0,2,8]\n",
        "print(lst3)\n",
        "print(type(lst3))"
      ],
      "metadata": {
        "colab": {
          "base_uri": "https://localhost:8080/"
        },
        "id": "YoPWRORwJ06E",
        "outputId": "c587427d-a66d-4eff-b9b4-8e782a258efe"
      },
      "execution_count": 5,
      "outputs": [
        {
          "output_type": "stream",
          "name": "stdout",
          "text": [
            "[5, 0, 2, 8]\n",
            "<class 'list'>\n"
          ]
        }
      ]
    },
    {
      "cell_type": "code",
      "source": [
        "lst4={1:\"Shryi\",2:\"Achi\",3:\"Arsha\"}\n",
        "print(lst4)\n",
        "print(type(lst4))"
      ],
      "metadata": {
        "colab": {
          "base_uri": "https://localhost:8080/"
        },
        "id": "QKcRFFitKAL9",
        "outputId": "e448f86c-89c7-4d8d-86cd-c7f034275370"
      },
      "execution_count": 6,
      "outputs": [
        {
          "output_type": "stream",
          "name": "stdout",
          "text": [
            "{1: 'Shryi', 2: 'Achi', 3: 'Arsha'}\n",
            "<class 'dict'>\n"
          ]
        }
      ]
    },
    {
      "cell_type": "code",
      "source": [
        "lst5=\"welcome to aiml lab\"\n",
        "print(lst5)\n",
        "print(type(lst5))"
      ],
      "metadata": {
        "colab": {
          "base_uri": "https://localhost:8080/"
        },
        "id": "hQzTpN9fJ5fE",
        "outputId": "25e8efe1-9512-43d5-afac-81957170ca3a"
      },
      "execution_count": 7,
      "outputs": [
        {
          "output_type": "stream",
          "name": "stdout",
          "text": [
            "welcome to aiml lab\n",
            "<class 'str'>\n"
          ]
        }
      ]
    },
    {
      "cell_type": "code",
      "source": [
        "lst6=13.4\n",
        "print(lst6)\n",
        "print(type(lst6))"
      ],
      "metadata": {
        "colab": {
          "base_uri": "https://localhost:8080/"
        },
        "id": "lSrn7VFaKZ3t",
        "outputId": "746529b0-76c5-45c8-82c6-cd72845eaee1"
      },
      "execution_count": 8,
      "outputs": [
        {
          "output_type": "stream",
          "name": "stdout",
          "text": [
            "13.4\n",
            "<class 'float'>\n"
          ]
        }
      ]
    },
    {
      "cell_type": "code",
      "source": [
        "lst7=5j+7\n",
        "print(lst7)\n",
        "print(type(lst7))"
      ],
      "metadata": {
        "colab": {
          "base_uri": "https://localhost:8080/"
        },
        "id": "xuwsrVPmKhwG",
        "outputId": "9859371e-c90d-4356-a298-17feeae4f864"
      },
      "execution_count": 10,
      "outputs": [
        {
          "output_type": "stream",
          "name": "stdout",
          "text": [
            "(7+5j)\n",
            "<class 'complex'>\n"
          ]
        }
      ]
    },
    {
      "cell_type": "code",
      "source": [
        "import numpy as np\n",
        "arr1=np.array([3,4,5,6])\n",
        "print(arr1)\n",
        "print(type(arr1))"
      ],
      "metadata": {
        "colab": {
          "base_uri": "https://localhost:8080/"
        },
        "id": "4IWhbVucKyOt",
        "outputId": "62800053-3bb2-4a9e-eaa4-c8486323de97"
      },
      "execution_count": 11,
      "outputs": [
        {
          "output_type": "stream",
          "name": "stdout",
          "text": [
            "[3 4 5 6]\n",
            "<class 'numpy.ndarray'>\n"
          ]
        }
      ]
    },
    {
      "cell_type": "code",
      "source": [
        "arr2=np.zeros((5,7))\n",
        "print(arr2)\n",
        "print(type(arr2))"
      ],
      "metadata": {
        "colab": {
          "base_uri": "https://localhost:8080/"
        },
        "id": "3aNluX93K8Gw",
        "outputId": "2a4c0a07-9293-4d00-b6ab-deb3ed5c92cf"
      },
      "execution_count": 13,
      "outputs": [
        {
          "output_type": "stream",
          "name": "stdout",
          "text": [
            "[[0. 0. 0. 0. 0. 0. 0.]\n",
            " [0. 0. 0. 0. 0. 0. 0.]\n",
            " [0. 0. 0. 0. 0. 0. 0.]\n",
            " [0. 0. 0. 0. 0. 0. 0.]\n",
            " [0. 0. 0. 0. 0. 0. 0.]]\n",
            "<class 'numpy.ndarray'>\n"
          ]
        }
      ]
    },
    {
      "cell_type": "code",
      "source": [
        "arr3=np.array([[1,2,3],[5,6,7],[3,6,7]])\n",
        "print(arr3)\n",
        "print(type(arr3))"
      ],
      "metadata": {
        "colab": {
          "base_uri": "https://localhost:8080/"
        },
        "id": "fXSCGfnnLEyF",
        "outputId": "e25ca3bc-0842-4bc9-aa66-87e78ff923e1"
      },
      "execution_count": 14,
      "outputs": [
        {
          "output_type": "stream",
          "name": "stdout",
          "text": [
            "[[1 2 3]\n",
            " [5 6 7]\n",
            " [3 6 7]]\n",
            "<class 'numpy.ndarray'>\n"
          ]
        }
      ]
    },
    {
      "cell_type": "code",
      "source": [
        "arr4=np.array([[1,2],[3,4]])\n",
        "print(arr4)\n",
        "print(type(arr4))"
      ],
      "metadata": {
        "colab": {
          "base_uri": "https://localhost:8080/"
        },
        "id": "b23eJuIYLW19",
        "outputId": "74b3b6e7-e96b-4cf8-b0d3-dad5b7de7e43"
      },
      "execution_count": 15,
      "outputs": [
        {
          "output_type": "stream",
          "name": "stdout",
          "text": [
            "[[1 2]\n",
            " [3 4]]\n",
            "<class 'numpy.ndarray'>\n"
          ]
        }
      ]
    },
    {
      "cell_type": "code",
      "source": [
        "dtype=[('name','S10'),('age','i4')]\n",
        "values=[('Shryitha',18),('Sahithi',26)]\n",
        "arr5=np.array(values,dtype=dtype)\n",
        "print(arr5)\n",
        "print(type(arr5))"
      ],
      "metadata": {
        "colab": {
          "base_uri": "https://localhost:8080/"
        },
        "id": "0bUHrFl9LhwW",
        "outputId": "71f0ac33-687a-483f-89bf-e6d3e860f53e"
      },
      "execution_count": 18,
      "outputs": [
        {
          "output_type": "stream",
          "name": "stdout",
          "text": [
            "[(b'Shryitha', 18) (b'Sahithi', 26)]\n",
            "<class 'numpy.ndarray'>\n"
          ]
        }
      ]
    },
    {
      "cell_type": "code",
      "source": [
        "arr6=np.matrix([[1,2],[3,4]])\n",
        "print(arr6)\n",
        "print(type(arr6))"
      ],
      "metadata": {
        "colab": {
          "base_uri": "https://localhost:8080/"
        },
        "id": "YcE69d8kMC33",
        "outputId": "7e775107-19b4-4232-ddd1-165f213153cd"
      },
      "execution_count": 19,
      "outputs": [
        {
          "output_type": "stream",
          "name": "stdout",
          "text": [
            "[[1 2]\n",
            " [3 4]]\n",
            "<class 'numpy.matrix'>\n"
          ]
        }
      ]
    },
    {
      "cell_type": "code",
      "source": [
        "import numpy as np\n",
        "array1=np.array([1,2,3,4])\n",
        "array2=np.array([5,7,8,9])\n",
        "result=array1*array2\n",
        "print(\"Multiplication Result:\",result)"
      ],
      "metadata": {
        "colab": {
          "base_uri": "https://localhost:8080/"
        },
        "id": "jlgDY5krMWt0",
        "outputId": "50628d7c-2ecd-42f9-bf6d-4269d762b716"
      },
      "execution_count": 20,
      "outputs": [
        {
          "output_type": "stream",
          "name": "stdout",
          "text": [
            "Multiplication Result: [ 5 14 24 36]\n"
          ]
        }
      ]
    },
    {
      "cell_type": "code",
      "source": [
        "import numpy as np\n",
        "array1=np.array([1,2,7,8])\n",
        "array2=np.array([4,5,6,7])\n",
        "res=array1/array2\n",
        "print(\"Division Result:\",res)"
      ],
      "metadata": {
        "colab": {
          "base_uri": "https://localhost:8080/"
        },
        "id": "nxUgjTGHMv-7",
        "outputId": "24ceb673-66ef-4a31-91e2-c5b1cb480c50"
      },
      "execution_count": 21,
      "outputs": [
        {
          "output_type": "stream",
          "name": "stdout",
          "text": [
            "Division Result: [0.25       0.4        1.16666667 1.14285714]\n"
          ]
        }
      ]
    },
    {
      "cell_type": "code",
      "source": [
        "import numpy as np\n",
        "arr1=np.array([1,2,14,5])\n",
        "arr2=np.array([2,3,4,7])\n",
        "res=arr1^arr2\n",
        "print(\"Power Result:\",res)"
      ],
      "metadata": {
        "colab": {
          "base_uri": "https://localhost:8080/"
        },
        "id": "OmZX85S_NHlL",
        "outputId": "78f25d32-f528-48e7-ee94-276442ce4077"
      },
      "execution_count": 22,
      "outputs": [
        {
          "output_type": "stream",
          "name": "stdout",
          "text": [
            "Power Result: [ 3  1 10  2]\n"
          ]
        }
      ]
    },
    {
      "cell_type": "code",
      "source": [
        "arr=f\"Addition of two :{array1}+{array2}={array1+array2}\"\n",
        "print(\"\\n\"+arr)"
      ],
      "metadata": {
        "colab": {
          "base_uri": "https://localhost:8080/"
        },
        "id": "uVL2gDkwSyuY",
        "outputId": "80fdf04c-22cd-4e2b-d928-f497205999b7"
      },
      "execution_count": 23,
      "outputs": [
        {
          "output_type": "stream",
          "name": "stdout",
          "text": [
            "\n",
            "Addition of two :[1 2 7 8]+[4 5 6 7]=[ 5  7 13 15]\n"
          ]
        }
      ]
    },
    {
      "cell_type": "code",
      "source": [
        "angles=np.array([0,np.pi/2,np.pi,3*np.pi/2,2*np.pi])\n",
        "values_log=np.array([1,np.e,np.e**2,np.e**3])\n",
        "values_log2=np.array([1,2,5,8,7])\n",
        "values_exp=np.array([0,5,7,14])\n",
        "sine_values=np.sin(angles)\n",
        "print(\"Sine Values:\",sine_values)\n",
        "\n",
        "log_values=np.log(values_log)\n",
        "print(\"Natural ogarithm values:\",log_values)\n",
        "\n",
        "log2_values=np.log2(values_log2)\n",
        "print(\"Base-2 logarithm values:\",log2_values)\n",
        "\n",
        "exp_values=np.exp(values_exp)\n",
        "print(\"Exponential values:\",exp_values)"
      ],
      "metadata": {
        "colab": {
          "base_uri": "https://localhost:8080/"
        },
        "id": "7zVgQtM6TMb9",
        "outputId": "b02db15a-f2e9-4098-9840-fc94c2e1081c"
      },
      "execution_count": 24,
      "outputs": [
        {
          "output_type": "stream",
          "name": "stdout",
          "text": [
            "Sine Values: [ 0.0000000e+00  1.0000000e+00  1.2246468e-16 -1.0000000e+00\n",
            " -2.4492936e-16]\n",
            "Natural ogarithm values: [0. 1. 2. 3.]\n",
            "Base-2 logarithm values: [0.         1.         2.32192809 3.         2.80735492]\n",
            "Exponential values: [1.00000000e+00 1.48413159e+02 1.09663316e+03 1.20260428e+06]\n"
          ]
        }
      ]
    },
    {
      "cell_type": "code",
      "source": [
        "import pandas as pd\n",
        "series=pd.Series([1,2,3,4,5])\n",
        "print(\"Pandas Series:\",series)"
      ],
      "metadata": {
        "colab": {
          "base_uri": "https://localhost:8080/"
        },
        "id": "sOeB_mpUUu7c",
        "outputId": "a01c604d-d96d-47b1-e303-4d9e1d5e41f0"
      },
      "execution_count": 25,
      "outputs": [
        {
          "output_type": "stream",
          "name": "stdout",
          "text": [
            "Pandas Series: 0    1\n",
            "1    2\n",
            "2    3\n",
            "3    4\n",
            "4    5\n",
            "dtype: int64\n"
          ]
        }
      ]
    },
    {
      "cell_type": "code",
      "source": [
        "df=pd.DataFrame({'Colum1':[1,2,4,5,7],'Colum2':[5,6,7,3,1]})\n",
        "print(\"Pandas DataFrame:\\n\",df)"
      ],
      "metadata": {
        "colab": {
          "base_uri": "https://localhost:8080/"
        },
        "id": "d8MOctDLVA8q",
        "outputId": "f1344f6e-64ec-42a9-f869-5577b24cb5a5"
      },
      "execution_count": 26,
      "outputs": [
        {
          "output_type": "stream",
          "name": "stdout",
          "text": [
            "Pandas DataFrame:\n",
            "    Colum1  Colum2\n",
            "0       1       5\n",
            "1       2       6\n",
            "2       4       7\n",
            "3       5       3\n",
            "4       7       1\n"
          ]
        }
      ]
    },
    {
      "cell_type": "code",
      "source": [
        "data_series=[20,30,50,70]\n",
        "index_series=['s','a','v','g']\n",
        "series=pd.Series(data_series,index=index_series)\n",
        "print(\"Pandas Series:\\n\",series)"
      ],
      "metadata": {
        "colab": {
          "base_uri": "https://localhost:8080/"
        },
        "id": "83QBZ3Y1VWbv",
        "outputId": "ea66d6df-6acb-4e7c-cf8a-09721ab6b5b5"
      },
      "execution_count": 27,
      "outputs": [
        {
          "output_type": "stream",
          "name": "stdout",
          "text": [
            "Pandas Series:\n",
            " s    20\n",
            "a    30\n",
            "v    50\n",
            "g    70\n",
            "dtype: int64\n"
          ]
        }
      ]
    },
    {
      "cell_type": "code",
      "source": [
        "data_df={'Name':['Shryitha','pandu','mani'],'Age':[18,19,25],'City':['warangal','hnk','uk']}\n",
        "df=pd.DataFrame(data_df)\n",
        "print(\"Pandas DataFrame:\\n\",df)"
      ],
      "metadata": {
        "colab": {
          "base_uri": "https://localhost:8080/"
        },
        "id": "w3OLyWt-V4LI",
        "outputId": "b0346653-04c8-4b76-8a34-017c9ab46fee"
      },
      "execution_count": 29,
      "outputs": [
        {
          "output_type": "stream",
          "name": "stdout",
          "text": [
            "Pandas DataFrame:\n",
            "        Name  Age      City\n",
            "0  Shryitha   18  warangal\n",
            "1     pandu   19       hnk\n",
            "2      mani   25        uk\n"
          ]
        }
      ]
    },
    {
      "cell_type": "markdown",
      "source": [
        "PART 2: VISUALIZATION OF DATA USING MATPLOTLIB,PYPLOTS PACKAGES"
      ],
      "metadata": {
        "id": "pQaaVUTmWunW"
      }
    },
    {
      "cell_type": "code",
      "source": [
        "import pandas as pd\n",
        "data={\n",
        "    'People':['Mani','shryi','achi','sujith'],\n",
        "    'Age':[25,18,19,22],\n",
        "    'Height':[155,145,145,160],\n",
        "    'Weight':[80,75,55,67]\n",
        "}\n",
        "df=pd.DataFrame(data)\n",
        "print(df)"
      ],
      "metadata": {
        "colab": {
          "base_uri": "https://localhost:8080/"
        },
        "id": "tdHVddCgXJDI",
        "outputId": "0a9f692d-6bfd-4b4e-f545-7a3e91af9cc4"
      },
      "execution_count": 30,
      "outputs": [
        {
          "output_type": "stream",
          "name": "stdout",
          "text": [
            "   People  Age  Height  Weight\n",
            "0    Mani   25     155      80\n",
            "1   shryi   18     145      75\n",
            "2    achi   19     145      55\n",
            "3  sujith   22     160      67\n"
          ]
        }
      ]
    },
    {
      "cell_type": "code",
      "source": [
        "import matplotlib.pyplot as plt\n",
        "plt.figure(figsize=(10,6))\n",
        "plt.scatter(df['Age'],df['Height'],color='blue',s=159,alpha=0.5,edgecolors='b')\n",
        "plt.title('SCATTER PLOT OF AGE VS HEIGHT')\n",
        "plt.xlabel('Height')\n",
        "plt.ylabel('Age')\n",
        "plt.grid(True)\n",
        "plt.show()"
      ],
      "metadata": {
        "colab": {
          "base_uri": "https://localhost:8080/",
          "height": 564
        },
        "id": "yt7tk7TGZvjW",
        "outputId": "2d949fa8-c100-415c-9d00-cbef64ec7431"
      },
      "execution_count": 36,
      "outputs": [
        {
          "output_type": "display_data",
          "data": {
            "text/plain": [
              "<Figure size 1000x600 with 1 Axes>"
            ],
            "image/png": "[encoded data removed]"
          },
          "metadata": {}
        }
      ]
    },
    {
      "cell_type": "code",
      "source": [
        "plt.figure(figsize=(10,6))\n",
        "plt.bar(df['People'],df['Weight'],color='blue',alpha=0.7)\n",
        "plt.title('BAR GRAPH OF WEIGHT BY PERSON')\n",
        "plt.xlabel('People')\n",
        "plt.ylabel('Weight')\n",
        "plt.show()"
      ],
      "metadata": {
        "colab": {
          "base_uri": "https://localhost:8080/",
          "height": 564
        },
        "id": "BlyjJbj3a6Ie",
        "outputId": "4dcd735e-e2d0-431b-a540-a061a2f9b3ca"
      },
      "execution_count": 38,
      "outputs": [
        {
          "output_type": "display_data",
          "data": {
            "text/plain": [
              "<Figure size 1000x600 with 1 Axes>"
            ],
            "image/png": "[encoded data removed]"
          },
          "metadata": {}
        }
      ]
    },
    {
      "cell_type": "code",
      "source": [
        "plt.figure(figsize=(10,5))\n",
        "plt.hist(df['Age'],bins=5,color='blue',alpha=0.7,edgecolor='pink')\n",
        "plt.title('HISTOGRAM OF AGES')\n",
        "plt.xlabel('Age')\n",
        "plt.ylabel('Frequency')\n",
        "plt.show()"
      ],
      "metadata": {
        "colab": {
          "base_uri": "https://localhost:8080/",
          "height": 487
        },
        "id": "UhMhA91hbiUb",
        "outputId": "1c7f6254-333f-4433-9874-bba6dd0adffc"
      },
      "execution_count": 39,
      "outputs": [
        {
          "output_type": "display_data",
          "data": {
            "text/plain": [
              "<Figure size 1000x500 with 1 Axes>"
            ],
            "image/png": "[encoded data removed]"
          },
          "metadata": {}
        }
      ]
    }
  ]
}